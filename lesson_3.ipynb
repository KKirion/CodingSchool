{
 "cells": [
  {
   "attachments": {},
   "cell_type": "markdown",
   "metadata": {},
   "source": [
    "# Mutable and immutable variables"
   ]
  },
  {
   "cell_type": "code",
   "execution_count": 1,
   "metadata": {},
   "outputs": [
    {
     "name": "stdout",
     "output_type": "stream",
     "text": [
      "pries\n",
      "140693196695856\n",
      "140693196695856\n",
      "po\n",
      "pries\n",
      "140693196695856\n",
      "140693196696016\n",
      "1\n",
      "6\n"
     ]
    }
   ],
   "source": [
    "# immutable variables\n",
    "a = 1\n",
    "b = a\n",
    "print('pries')\n",
    "print( id(a) )\n",
    "print( id(b) )\n",
    "b += 5\n",
    "print ('po')\n",
    "print('pries')\n",
    "print( id(a) )\n",
    "print( id(b) )\n",
    "print (a)\n",
    "print (b)"
   ]
  },
  {
   "cell_type": "code",
   "execution_count": 2,
   "metadata": {},
   "outputs": [
    {
     "name": "stdout",
     "output_type": "stream",
     "text": [
      "pries\n",
      "140692666346368\n",
      "140692666346368\n",
      "po\n",
      "140692666346368\n",
      "140692666346368\n",
      "[1, 2, 3, 10]\n",
      "[1, 2, 3, 10]\n"
     ]
    }
   ],
   "source": [
    "# mutable variable:\n",
    "a = [1,2,3]\n",
    "b = a\n",
    "print ('pries')\n",
    "print( id(a) )\n",
    "print( id(b) )\n",
    "b.append(10)\n",
    "print ('po')\n",
    "print( id(a) )\n",
    "print( id(b) )\n",
    "print (a)\n",
    "print (b)"
   ]
  },
  {
   "cell_type": "code",
   "execution_count": 3,
   "metadata": {},
   "outputs": [
    {
     "name": "stdout",
     "output_type": "stream",
     "text": [
      "pries\n",
      "140692412575488\n",
      "140692666347264\n",
      "po\n",
      "140692412575488\n",
      "140692666347264\n",
      "[1, 2, 3]\n",
      "[1, 2, 3, 10]\n"
     ]
    }
   ],
   "source": [
    "# mfixing utable variable:\n",
    "a = [1,2,3]\n",
    "b = a.copy()\n",
    "print ('pries')\n",
    "print( id(a) )\n",
    "print( id(b) )\n",
    "b.append(10)\n",
    "print ('po')\n",
    "print( id(a) )\n",
    "print( id(b) )\n",
    "print (a)\n",
    "print (b)"
   ]
  },
  {
   "cell_type": "code",
   "execution_count": 4,
   "metadata": {},
   "outputs": [
    {
     "name": "stdout",
     "output_type": "stream",
     "text": [
      "pries\n",
      "140692666352128\n",
      "140692666330240\n",
      "po\n",
      "140692666352128\n",
      "140692666330240\n",
      "[1, 2, ['a', 'b', 'c']]\n",
      "[1, 2, ['a', 'b', 'c']]\n"
     ]
    }
   ],
   "source": [
    "# where fix #1 doesn't work\n",
    "a = [1,2, [ 'a', 'b' ] ]\n",
    "b = a.copy()\n",
    "print ('pries')\n",
    "print( id(a) )\n",
    "print( id(b) )\n",
    "b[-1].append( 'c' )\n",
    "print ('po')\n",
    "print( id(a) )\n",
    "print( id(b) )\n",
    "print (a)\n",
    "print (b)"
   ]
  },
  {
   "cell_type": "code",
   "execution_count": 5,
   "metadata": {},
   "outputs": [
    {
     "name": "stdout",
     "output_type": "stream",
     "text": [
      "pries\n",
      "140692412579584\n",
      "140692412575488\n",
      "po\n",
      "140692412579584\n",
      "140692412575488\n",
      "[1, 2, ['a', 'b']]\n",
      "[1, 2, ['a', 'b', 'c']]\n"
     ]
    }
   ],
   "source": [
    "# fixing mutable variable #2\n",
    "import copy\n",
    "a = [1,2, [ 'a', 'b' ] ]\n",
    "b = copy.deepcopy(a)\n",
    "print ('pries')\n",
    "print( id(a) )\n",
    "print( id(b) )\n",
    "b[-1].append( 'c' )\n",
    "print ('po')\n",
    "print( id(a) )\n",
    "print( id(b) )\n",
    "print (a)\n",
    "print (b)"
   ]
  },
  {
   "cell_type": "markdown",
   "metadata": {},
   "source": [
    "# Tuple"
   ]
  },
  {
   "cell_type": "code",
   "execution_count": 7,
   "metadata": {},
   "outputs": [],
   "source": [
    "my_tuple = (1, 5, 'b')"
   ]
  },
  {
   "cell_type": "code",
   "execution_count": 13,
   "metadata": {},
   "outputs": [
    {
     "name": "stdout",
     "output_type": "stream",
     "text": [
      "<class 'tuple'>\n",
      "<class 'tuple'>\n"
     ]
    }
   ],
   "source": [
    "print(type(my_tuple))\n",
    "print(type( () ))"
   ]
  },
  {
   "cell_type": "code",
   "execution_count": 16,
   "metadata": {},
   "outputs": [
    {
     "name": "stdout",
     "output_type": "stream",
     "text": [
      "(1, 5, 'b', 54, 1)\n",
      "(1, 5, 'b')\n"
     ]
    }
   ],
   "source": [
    "print(my_tuple + (54,1))\n",
    "print(my_tuple)"
   ]
  },
  {
   "cell_type": "code",
   "execution_count": 18,
   "metadata": {},
   "outputs": [
    {
     "name": "stdout",
     "output_type": "stream",
     "text": [
      "5\n",
      "(5, 'b')\n"
     ]
    }
   ],
   "source": [
    "print(my_tuple[1])\n",
    "print(my_tuple[1:])"
   ]
  },
  {
   "cell_type": "code",
   "execution_count": 20,
   "metadata": {},
   "outputs": [
    {
     "name": "stdout",
     "output_type": "stream",
     "text": [
      "(1, 5, 'b', 54, 1)\n"
     ]
    }
   ],
   "source": [
    "my_tuple = (1, 5, 'b')\n",
    "my_tuple = my_tuple + (54, 1)\n",
    "print(my_tuple)"
   ]
  },
  {
   "cell_type": "code",
   "execution_count": 28,
   "metadata": {},
   "outputs": [
    {
     "name": "stdout",
     "output_type": "stream",
     "text": [
      "2\n"
     ]
    },
    {
     "ename": "ValueError",
     "evalue": "tuple.index(x): x not in tuple",
     "output_type": "error",
     "traceback": [
      "\u001b[0;31m---------------------------------------------------------------------------\u001b[0m",
      "\u001b[0;31mValueError\u001b[0m                                Traceback (most recent call last)",
      "\u001b[0;32m/var/folders/7c/60zcq1pn4gbf6yrdtdr9nm040000gn/T/ipykernel_34538/1369027035.py\u001b[0m in \u001b[0;36m<module>\u001b[0;34m\u001b[0m\n\u001b[1;32m      1\u001b[0m \u001b[0mprint\u001b[0m\u001b[0;34m(\u001b[0m\u001b[0mmy_tuple\u001b[0m\u001b[0;34m.\u001b[0m\u001b[0mcount\u001b[0m\u001b[0;34m(\u001b[0m\u001b[0;36m1\u001b[0m\u001b[0;34m)\u001b[0m\u001b[0;34m)\u001b[0m\u001b[0;34m\u001b[0m\u001b[0;34m\u001b[0m\u001b[0m\n\u001b[0;32m----> 2\u001b[0;31m \u001b[0mprint\u001b[0m\u001b[0;34m(\u001b[0m\u001b[0mmy_tuple\u001b[0m\u001b[0;34m.\u001b[0m\u001b[0mindex\u001b[0m\u001b[0;34m(\u001b[0m\u001b[0;36m100\u001b[0m\u001b[0;34m)\u001b[0m\u001b[0;34m)\u001b[0m\u001b[0;34m\u001b[0m\u001b[0;34m\u001b[0m\u001b[0m\n\u001b[0m",
      "\u001b[0;31mValueError\u001b[0m: tuple.index(x): x not in tuple"
     ]
    }
   ],
   "source": [
    "print(my_tuple.count(1))\n",
    "print(my_tuple.index(100)) # klaida"
   ]
  },
  {
   "cell_type": "code",
   "execution_count": 31,
   "metadata": {},
   "outputs": [
    {
     "name": "stdout",
     "output_type": "stream",
     "text": [
      "5\n",
      "False\n",
      "True\n"
     ]
    }
   ],
   "source": [
    "print(len(my_tuple))\n",
    "print(100 in my_tuple)\n",
    "print(1 in my_tuple)"
   ]
  },
  {
   "cell_type": "code",
   "execution_count": 35,
   "metadata": {},
   "outputs": [
    {
     "name": "stdout",
     "output_type": "stream",
     "text": [
      "<class 'list'>\n",
      "(1, 5, 'b', 54, 1)\n",
      "[1, 5, 'b', 54, 1]\n",
      "(1, 5, 'b', 54, 1)\n"
     ]
    }
   ],
   "source": [
    "my_list = list( my_tuple )\n",
    "print (type (my_list))\n",
    "print(my_tuple)\n",
    "print(my_list)\n",
    "\n",
    "\n",
    "my_tuple = tuple(my_list)\n",
    "print (my_tuple)"
   ]
  },
  {
   "cell_type": "code",
   "execution_count": 41,
   "metadata": {},
   "outputs": [
    {
     "name": "stdout",
     "output_type": "stream",
     "text": [
      "8\n"
     ]
    }
   ],
   "source": [
    "my_tuple = (1, 2, ['3', 4, 5], [6, [7, (8)]])\n",
    "print (my_tuple [3][1][1])"
   ]
  },
  {
   "cell_type": "code",
   "execution_count": 45,
   "metadata": {},
   "outputs": [
    {
     "name": "stdout",
     "output_type": "stream",
     "text": [
      "(11, [222, 22], 44, 55)\n"
     ]
    }
   ],
   "source": [
    "tuple1 = (11, [222, 33], 44, 55)\n",
    "list1 = list(tuple1)\n",
    "list1[1][1] = 22\n",
    "tuple1 = tuple(list1)\n",
    "print(tuple1)\n"
   ]
  },
  {
   "cell_type": "code",
   "execution_count": 66,
   "metadata": {},
   "outputs": [
    {
     "name": "stdout",
     "output_type": "stream",
     "text": [
      "(1, 2, 76, 6, 88, 3, 1, 1)\n",
      "(1, 2, 76, 6, 88, 3, 1)\n",
      "(1, 1, 2, 3, 6, 76, 88)\n",
      "2\n",
      "88\n",
      "88\n"
     ]
    }
   ],
   "source": [
    "tuple2 = (1, 2, 76, 6)\n",
    "tuple3 = (88, 3, 1, 1)\n",
    "tuple_new = tuple2 + tuple3\n",
    "print(tuple_new)\n",
    "list_new = list(tuple_new)\n",
    "list_new.pop(-1)\n",
    "tuple_new = tuple(list_new)\n",
    "print(tuple_new)\n",
    "list_new = list(tuple_new)\n",
    "list_new.sort()\n",
    "tuple_new = tuple(list_new)\n",
    "print(tuple_new)\n",
    "print(tuple_new.count(1))\n",
    "print(tuple_new[-1])\n",
    "print(max(tuple_new))"
   ]
  },
  {
   "cell_type": "markdown",
   "metadata": {},
   "source": [
    "# Range"
   ]
  },
  {
   "cell_type": "code",
   "execution_count": 77,
   "metadata": {},
   "outputs": [
    {
     "name": "stdout",
     "output_type": "stream",
     "text": [
      "range(0, 10)\n",
      "<class 'range'>\n",
      "[0, 1, 2, 3, 4, 5, 6, 7, 8, 9]\n",
      "[-5, -4, -3, -2, -1, 0, 1, 2, 3, 4, 5, 6, 7, 8, 9]\n",
      "[-5, -2, 1, 4, 7]\n",
      "[100, 86, 72, 58, 44, 30, 16, 2, -12, -26]\n"
     ]
    }
   ],
   "source": [
    "print( range(10) )\n",
    "print( type(range(10)) )\n",
    "print( list( range(10) ) )\n",
    "print( list( range(-5, 10) ) )\n",
    "print( list( range(-5, 10, 3) ) )\n",
    "print( list(range(100, -32, -14) ) )\n",
    "# range(start, end, step)"
   ]
  },
  {
   "cell_type": "markdown",
   "metadata": {},
   "source": [
    "# For loop (for ciklas)"
   ]
  },
  {
   "cell_type": "code",
   "execution_count": 82,
   "metadata": {},
   "outputs": [
    {
     "name": "stdout",
     "output_type": "stream",
     "text": [
      "Vilnius yra nuostabus miestas\n",
      "Kaunas yra nuostabus miestas\n",
      "Klaipeda yra nuostabus miestas\n",
      "Siauliai yra nuostabus miestas\n",
      "pabaiga\n"
     ]
    }
   ],
   "source": [
    "miestai = ['Vilnius', 'Kaunas', 'Klaipeda', 'Siauliai']\n",
    "\n",
    "#for <sugalvotas zodis> in <sarasas/tuple/tekstas/range>:\n",
    "for miestas in miestai:\n",
    "    # print(miestas)\n",
    "    # print(miestai)\n",
    "    print(f'{miestas} yra nuostabus miestas')\n",
    "print('pabaiga')\n"
   ]
  },
  {
   "cell_type": "code",
   "execution_count": 83,
   "metadata": {},
   "outputs": [
    {
     "name": "stdout",
     "output_type": "stream",
     "text": [
      "9\n",
      "49\n",
      "121\n",
      "225\n",
      "361\n",
      "529\n",
      "729\n",
      "961\n",
      "1225\n",
      "1521\n",
      "1849\n"
     ]
    }
   ],
   "source": [
    "for number in range(3, 46, 4):\n",
    "    print (number**2)"
   ]
  },
  {
   "cell_type": "code",
   "execution_count": 88,
   "metadata": {},
   "outputs": [
    {
     "name": "stdout",
     "output_type": "stream",
     "text": [
      "tarpine suma: 13.4\n",
      "tarpine suma: 159.85\n",
      "tarpine suma: 705.85\n",
      "tarpine suma: 759.85\n",
      "galutine suma: 759.85\n"
     ]
    }
   ],
   "source": [
    "mokejimai = [13.4, 146.45, 546,54]\n",
    "\n",
    "suma = 0\n",
    "for mokejimas in mokejimai:\n",
    "    suma += mokejimas\n",
    "    print(f'tarpine suma: {suma}')\n",
    "print(f'galutine suma: {suma}')"
   ]
  },
  {
   "cell_type": "code",
   "execution_count": 89,
   "metadata": {},
   "outputs": [
    {
     "name": "stdout",
     "output_type": "stream",
     "text": [
      "759.85\n"
     ]
    }
   ],
   "source": [
    "print( sum(mokejimai) )"
   ]
  },
  {
   "cell_type": "markdown",
   "metadata": {},
   "source": [
    "https://docs.python.org/3/library/functions.html"
   ]
  },
  {
   "cell_type": "code",
   "execution_count": 90,
   "metadata": {},
   "outputs": [],
   "source": [
    "human_input = input('Koks jusu vardas?')"
   ]
  },
  {
   "cell_type": "code",
   "execution_count": 91,
   "metadata": {},
   "outputs": [
    {
     "name": "stdout",
     "output_type": "stream",
     "text": [
      "Kiril\n"
     ]
    }
   ],
   "source": [
    "print(human_input)"
   ]
  },
  {
   "cell_type": "code",
   "execution_count": 92,
   "metadata": {},
   "outputs": [],
   "source": [
    "human_input = input('Irasykite skaiciu nuo 1 iki 10')"
   ]
  },
  {
   "cell_type": "code",
   "execution_count": 95,
   "metadata": {},
   "outputs": [
    {
     "name": "stdout",
     "output_type": "stream",
     "text": [
      "5\n",
      "<class 'str'>\n"
     ]
    }
   ],
   "source": [
    "print(human_input)\n",
    "print( type(human_input) )"
   ]
  },
  {
   "cell_type": "code",
   "execution_count": 96,
   "metadata": {},
   "outputs": [
    {
     "name": "stdout",
     "output_type": "stream",
     "text": [
      "1\n",
      "2\n",
      "3\n",
      "4\n",
      "5\n",
      "6\n",
      "7\n",
      "8\n",
      "9\n",
      "10\n"
     ]
    }
   ],
   "source": [
    "for number in range(1,11):\n",
    "    print(number)"
   ]
  },
  {
   "cell_type": "code",
   "execution_count": 97,
   "metadata": {},
   "outputs": [
    {
     "name": "stdout",
     "output_type": "stream",
     "text": [
      "1275\n"
     ]
    }
   ],
   "source": [
    "sum = 0\n",
    "for number in range(1,51):\n",
    "    sum += number\n",
    "print(sum)\n"
   ]
  },
  {
   "cell_type": "code",
   "execution_count": 98,
   "metadata": {},
   "outputs": [
    {
     "name": "stdout",
     "output_type": "stream",
     "text": [
      "2\n",
      "4\n",
      "6\n",
      "8\n",
      "10\n",
      "12\n",
      "14\n",
      "16\n",
      "18\n",
      "20\n"
     ]
    }
   ],
   "source": [
    "human_input = input('Irasykite sveika skaiciu nuo 1 iki 10')\n",
    "human_input = int(human_input)\n",
    "\n",
    "for number in range(1, 11):\n",
    "    print(human_input * number)"
   ]
  },
  {
   "cell_type": "code",
   "execution_count": 115,
   "metadata": {},
   "outputs": [
    {
     "name": "stdout",
     "output_type": "stream",
     "text": [
      "[['Pirmadienis', 10], ['Pirmadienis', 11], ['Pirmadienis', 12], ['Pirmadienis', 13], ['Pirmadienis', 14], ['Pirmadienis', 15], ['Pirmadienis', 16], ['Pirmadienis', 17], ['Pirmadienis', 18], ['Pirmadienis', 19], ['Antradienis', 10], ['Antradienis', 11], ['Antradienis', 12], ['Antradienis', 13], ['Antradienis', 14], ['Antradienis', 15], ['Antradienis', 16], ['Antradienis', 17], ['Antradienis', 18], ['Antradienis', 19], ['Treciadienis', 10], ['Treciadienis', 11], ['Treciadienis', 12], ['Treciadienis', 13], ['Treciadienis', 14], ['Treciadienis', 15], ['Treciadienis', 16], ['Treciadienis', 17], ['Treciadienis', 18], ['Treciadienis', 19], ['Ketvirtadienis', 10], ['Ketvirtadienis', 11], ['Ketvirtadienis', 12], ['Ketvirtadienis', 13], ['Ketvirtadienis', 14], ['Ketvirtadienis', 15], ['Ketvirtadienis', 16], ['Ketvirtadienis', 17], ['Ketvirtadienis', 18], ['Ketvirtadienis', 19], ['Penktadienis', 10], ['Penktadienis', 11], ['Penktadienis', 12], ['Penktadienis', 13], ['Penktadienis', 14], ['Penktadienis', 15], ['Penktadienis', 16], ['Penktadienis', 17], ['Penktadienis', 18], ['Penktadienis', 19], ['Sestadienis', 10], ['Sestadienis', 11], ['Sestadienis', 12], ['Sestadienis', 13], ['Sestadienis', 14], ['Sestadienis', 15], ['Sestadienis', 16], ['Sestadienis', 17], ['Sestadienis', 18], ['Sestadienis', 19], ['Sekmadienis', 10], ['Sekmadienis', 11], ['Sekmadienis', 12], ['Sekmadienis', 13], ['Sekmadienis', 14], ['Sekmadienis', 15], ['Sekmadienis', 16], ['Sekmadienis', 17], ['Sekmadienis', 18], ['Sekmadienis', 19]]\n"
     ]
    }
   ],
   "source": [
    "dienos = ('Pirmadienis', 'Antradienis', 'Treciadienis','Ketvirtadienis', 'Penktadienis', 'Sestadienis' , 'Sekmadienis')\n",
    "valandos = [10, 11, 12, 13, 14, 15, 16, 17, 18, 19]\n",
    "list1 = []\n",
    "\n",
    "for diena in dienos:\n",
    "    for valanda in valandos:\n",
    "        i = [diena, valanda]\n",
    "        list1.append(i)\n",
    "print(list1)"
   ]
  },
  {
   "cell_type": "markdown",
   "metadata": {},
   "source": [
    "# If statement (if salygos)"
   ]
  },
  {
   "cell_type": "code",
   "execution_count": 113,
   "metadata": {},
   "outputs": [
    {
     "name": "stdout",
     "output_type": "stream",
     "text": [
      "jums yra tarp 12 ir 18 metu\n"
     ]
    }
   ],
   "source": [
    "age = int( input('iveskite amzius') )\n",
    "\n",
    "# vykdoma tik viena dalis, kuri yra True\n",
    "if age >= 18:\n",
    "    print(f'jums yra {age} metu, Jus esate pinametis')\n",
    "elif age > 12:\n",
    "    print('jums yra tarp 12 ir 18 metu')\n",
    "else:\n",
    "    print(f'Jus esate nepilnametis')"
   ]
  },
  {
   "cell_type": "code",
   "execution_count": 117,
   "metadata": {},
   "outputs": [
    {
     "name": "stdout",
     "output_type": "stream",
     "text": [
      "skaicius 33 yra nelyginis\n"
     ]
    }
   ],
   "source": [
    "x = int( input('iveskite skaiciu:') )\n",
    "\n",
    "if x % 2 == 0:\n",
    "    print(f'skaicius {x} yra lyginis')\n",
    "else:\n",
    "    print(f'skaicius {x} yra nelyginis')"
   ]
  },
  {
   "cell_type": "code",
   "execution_count": 118,
   "metadata": {},
   "outputs": [
    {
     "name": "stdout",
     "output_type": "stream",
     "text": [
      "3 dalinasi is 3\n",
      "6 dalinasi is 3\n",
      "9 dalinasi is 3\n",
      "12 dalinasi is 3\n",
      "15 dalinasi is 3\n",
      "18 dalinasi is 3\n"
     ]
    }
   ],
   "source": [
    "for number in range(1, 21):\n",
    "    if number % 3 == 0:\n",
    "        print(f'{number} dalinasi is 3')"
   ]
  },
  {
   "cell_type": "code",
   "execution_count": 140,
   "metadata": {},
   "outputs": [
    {
     "name": "stdout",
     "output_type": "stream",
     "text": [
      "650\n"
     ]
    }
   ],
   "source": [
    "sum = 0\n",
    "\n",
    "for number in range(1, 51):\n",
    "    if (sum + number) % 2 == 0:\n",
    "        sum += number\n",
    "print(sum)"
   ]
  },
  {
   "cell_type": "code",
   "execution_count": 143,
   "metadata": {},
   "outputs": [
    {
     "name": "stdout",
     "output_type": "stream",
     "text": [
      "33\n",
      "66\n",
      "99\n",
      "132\n",
      "165\n",
      "198\n",
      "231\n",
      "264\n",
      "297\n",
      "330\n"
     ]
    }
   ],
   "source": [
    "x = int (input('iveskite sveikaji skaiciu:'))\n",
    "\n",
    "if (x ** 2) % 2 != 0:\n",
    "    for number in range(1, 11):\n",
    "        print(x * number)"
   ]
  },
  {
   "cell_type": "code",
   "execution_count": 135,
   "metadata": {},
   "outputs": [
    {
     "name": "stdout",
     "output_type": "stream",
     "text": [
      "[('Pirmadienis', 12), ('Pirmadienis', 13), ('Pirmadienis', 14), ('Pirmadienis', 15), ('Pirmadienis', 16), ('Pirmadienis', 17), ('Treciadienis', 12), ('Treciadienis', 13), ('Treciadienis', 14), ('Treciadienis', 15), ('Treciadienis', 16), ('Treciadienis', 17)]\n"
     ]
    }
   ],
   "source": [
    "dienos = ('Pirmadienis', 'Antradienis', 'Treciadienis','Ketvirtadienis', 'Penktadienis', 'Sestadienis' , 'Sekmadienis')\n",
    "valandos = [10, 11, 12, 13, 14, 15, 16, 17, 18, 19]\n",
    "list1 = []\n",
    "\n",
    "for diena in dienos:\n",
    "    if diena == 'Pirmadienis':\n",
    "        for valanda in valandos:\n",
    "            if valanda in range (12, 18):\n",
    "                i = (diena, valanda)\n",
    "                list1.append(i)\n",
    "    elif diena == 'Treciadienis':\n",
    "        for valanda in valandos:\n",
    "          if valanda in range (12, 18):\n",
    "                i = (diena, valanda)\n",
    "                list1.append(i)\n",
    "print(list1)"
   ]
  },
  {
   "cell_type": "code",
   "execution_count": 138,
   "metadata": {},
   "outputs": [
    {
     "name": "stdout",
     "output_type": "stream",
     "text": [
      "[('Pirmadienis', 12), ('Pirmadienis', 13), ('Pirmadienis', 14), ('Pirmadienis', 15), ('Pirmadienis', 16), ('Pirmadienis', 17), ('Treciadienis', 12), ('Treciadienis', 13), ('Treciadienis', 14), ('Treciadienis', 15), ('Treciadienis', 16), ('Treciadienis', 17)]\n"
     ]
    }
   ],
   "source": [
    "dienos = ('Pirmadienis', 'Antradienis', 'Treciadienis','Ketvirtadienis', 'Penktadienis', 'Sestadienis' , 'Sekmadienis')\n",
    "valandos = [10, 11, 12, 13, 14, 15, 16, 17, 18, 19]\n",
    "list1 = []\n",
    "\n",
    "for diena in dienos:\n",
    "    if diena in ['Pirmadienis', 'Treciadienis']:\n",
    "        for valanda in valandos:\n",
    "            if valanda in range (12, 18):\n",
    "                i = (diena, valanda)\n",
    "                list1.append(i)\n",
    "print(list1)"
   ]
  },
  {
   "cell_type": "code",
   "execution_count": null,
   "metadata": {},
   "outputs": [],
   "source": []
  }
 ],
 "metadata": {
  "kernelspec": {
   "display_name": "base",
   "language": "python",
   "name": "python3"
  },
  "language_info": {
   "codemirror_mode": {
    "name": "ipython",
    "version": 3
   },
   "file_extension": ".py",
   "mimetype": "text/x-python",
   "name": "python",
   "nbconvert_exporter": "python",
   "pygments_lexer": "ipython3",
   "version": "3.9.13"
  },
  "orig_nbformat": 4,
  "vscode": {
   "interpreter": {
    "hash": "db1554e7e80c267642f7d4792a14c0fc63a46532c83b93ba56eb15c1168c221a"
   }
  }
 },
 "nbformat": 4,
 "nbformat_minor": 2
}
