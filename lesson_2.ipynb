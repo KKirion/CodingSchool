{
 "cells": [
  {
   "attachments": {},
   "cell_type": "markdown",
   "metadata": {},
   "source": [
    "## Strings"
   ]
  },
  {
   "cell_type": "code",
   "execution_count": 5,
   "metadata": {},
   "outputs": [
    {
     "name": "stdout",
     "output_type": "stream",
     "text": [
      "True\n",
      "False\n",
      "True\n"
     ]
    }
   ],
   "source": [
    "print ('1973'.isdigit())\n",
    "print (' 1973 '.isdigit())\n",
    "print ('1973'.strip().isdigit()) #strip metodas pasalina tarpus tekste"
   ]
  },
  {
   "attachments": {},
   "cell_type": "markdown",
   "metadata": {},
   "source": [
    "## String Operations"
   ]
  },
  {
   "cell_type": "code",
   "execution_count": 7,
   "metadata": {},
   "outputs": [
    {
     "data": {
      "text/plain": [
       "'Kiril Simbirskij'"
      ]
     },
     "execution_count": 7,
     "metadata": {},
     "output_type": "execute_result"
    }
   ],
   "source": [
    "'Kiril' + ' ' + 'Simbirskij'"
   ]
  },
  {
   "cell_type": "code",
   "execution_count": 8,
   "metadata": {},
   "outputs": [
    {
     "data": {
      "text/plain": [
       "'hi hi hi hi hi hi hi hi hi hi '"
      ]
     },
     "execution_count": 8,
     "metadata": {},
     "output_type": "execute_result"
    }
   ],
   "source": [
    "'hi '*10"
   ]
  },
  {
   "attachments": {},
   "cell_type": "markdown",
   "metadata": {},
   "source": [
    "## String formating. f-string"
   ]
  },
  {
   "cell_type": "code",
   "execution_count": 17,
   "metadata": {},
   "outputs": [
    {
     "name": "stdout",
     "output_type": "stream",
     "text": [
      "Kiril Simbirskij, nice to meet you! Your number is 57\n",
      "Kiril Simbirskij, nice to meet you! Your number is 57\n",
      "    Kiril       Simbirskij, nice to meet you! Your number is 57\n",
      "Kiril Simbirskij, nice to meet you! Your number is 57\n"
     ]
    }
   ],
   "source": [
    "name = 'Kiril'\n",
    "surname = 'Simbirskij'\n",
    "number = '57'\n",
    "\n",
    "#str() konvertuoja skaičių į tekstą\n",
    "print( name + ' ' + surname + ',' + ' nice to meet you! Your number is ' + str(number) )\n",
    "\n",
    "# f-string\n",
    "print( f'{name} {surname}, nice to meet you! Your number is {number}' )\n",
    "print( f'    {name}       {surname}, nice to meet you! Your number is {number}' )\n",
    "print( f'{name       } {surname      }, nice to meet you! Your number is {number}' )"
   ]
  },
  {
   "attachments": {},
   "cell_type": "markdown",
   "metadata": {},
   "source": [
    "## Numbers"
   ]
  },
  {
   "cell_type": "code",
   "execution_count": 20,
   "metadata": {},
   "outputs": [
    {
     "name": "stdout",
     "output_type": "stream",
     "text": [
      "<class 'int'>\n",
      "<class 'float'>\n",
      "<class 'str'>\n"
     ]
    }
   ],
   "source": [
    "number = 423\n",
    "number_text = '43'\n",
    "float_number = 1.5\n",
    "\n",
    "print( type(number) )\n",
    "print( type(float_number) )\n",
    "print( type(number_text) )"
   ]
  },
  {
   "attachments": {},
   "cell_type": "markdown",
   "metadata": {},
   "source": [
    "## Operations"
   ]
  },
  {
   "cell_type": "code",
   "execution_count": 28,
   "metadata": {},
   "outputs": [
    {
     "name": "stdout",
     "output_type": "stream",
     "text": [
      "424.5\n",
      "<class 'float'>\n",
      "5\n",
      "50\n",
      "2.0\n",
      "dalybos sveikoji dalis\n",
      "4\n",
      "dalybos liekana\n",
      "1\n",
      "0\n",
      "0\n",
      "1\n"
     ]
    }
   ],
   "source": [
    "suma = number + float_number\n",
    "print(suma)\n",
    "print(type(suma))\n",
    "print(10-5)\n",
    "print(10*5)\n",
    "print(10/5)\n",
    "\n",
    "print('dalybos sveikoji dalis')\n",
    "print(13 // 3) #duoda sveikaja dali dalybos\n",
    "\n",
    "print('dalybos liekana')\n",
    "print(13 % 3) #duoda dalybos liekana\n",
    "print(12%4) \n",
    "print(16%2) #liekana galima naudoti, norint nustatyti, ar skaicius yra lyginis\n",
    "print(17%2)"
   ]
  },
  {
   "cell_type": "code",
   "execution_count": 32,
   "metadata": {},
   "outputs": [
    {
     "name": "stdout",
     "output_type": "stream",
     "text": [
      "kelimas laipsniu\n",
      "4\n",
      "2^2 = 4\n",
      "6^4 = 1296\n"
     ]
    }
   ],
   "source": [
    "print('kelimas laipsniu')\n",
    "print( 2 ** 2 )\n",
    "print( f'{2}^{2} = {2 ** 2}' )\n",
    "print( f'{6}^{4} = {6 ** 4}' )"
   ]
  },
  {
   "cell_type": "code",
   "execution_count": 38,
   "metadata": {},
   "outputs": [
    {
     "name": "stdout",
     "output_type": "stream",
     "text": [
      "9.600000000000001\n",
      "9.600000000000001\n",
      "sandauga: 22.680000000000003\n"
     ]
    }
   ],
   "source": [
    "suma = 0\n",
    "\n",
    "kaina_1 = 5.4\n",
    "kaina_2 = 4.2\n",
    "\n",
    "suma = suma + kaina_1\n",
    "suma = suma + kaina_2\n",
    "\n",
    "print(suma)\n",
    "\n",
    "suma = 0\n",
    "suma += kaina_1\n",
    "suma += kaina_2\n",
    "print(suma)\n",
    "\n",
    "sandauga = 1\n",
    "sandauga *= kaina_1\n",
    "sandauga *= kaina_2\n",
    "\n",
    "print(f'sandauga: {sandauga}')\n"
   ]
  },
  {
   "cell_type": "code",
   "execution_count": 52,
   "metadata": {},
   "outputs": [
    {
     "name": "stdout",
     "output_type": "stream",
     "text": [
      "4+5 = 9\n",
      "4-5 = -1\n",
      "4*5 = 20\n",
      "leikana 4 / 5 = 4\n",
      "dalyba 4 / 5 = 0.8\n"
     ]
    }
   ],
   "source": [
    "suma = 4+5\n",
    "skirtumas = 4-5 \n",
    "sandauga = 4*5\n",
    "liekana = 4 % 5\n",
    "dalyba = 4/5\n",
    "print(f'4+5 = {suma}')\n",
    "print(f'4-5 = {skirtumas}')\n",
    "print(f'4*5 = {sandauga}')\n",
    "print(f'leikana 4 / 5 = {liekana}')\n",
    "print(f'dalyba 4 / 5 = {dalyba}')\n"
   ]
  },
  {
   "cell_type": "code",
   "execution_count": 54,
   "metadata": {},
   "outputs": [
    {
     "name": "stdout",
     "output_type": "stream",
     "text": [
      "4.4+5.5 = 9.9\n",
      "4.4-5.5 = -1.0999999999999996\n",
      "4.4*5.5 = 24.200000000000003\n",
      "leikana 4.4 / 5.5 = 4.4\n",
      "dalyba 4.4 / 5.5 = 0.8\n"
     ]
    }
   ],
   "source": [
    "suma = 4.4+5.5\n",
    "skirtumas = 4.4-5.5 \n",
    "sandauga = 4.4*5.5\n",
    "liekana = 4.4 % 5.5\n",
    "dalyba = 4.4/5.5\n",
    "print(f'4.4+5.5 = {suma}')\n",
    "print(f'4.4-5.5 = {skirtumas}')\n",
    "print(f'4.4*5.5 = {sandauga}')\n",
    "print(f'leikana 4.4 / 5.5 = {liekana}')\n",
    "print(f'dalyba 4.4 / 5.5 = {dalyba}')"
   ]
  },
  {
   "cell_type": "code",
   "execution_count": 57,
   "metadata": {},
   "outputs": [
    {
     "name": "stdout",
     "output_type": "stream",
     "text": [
      "atstumas iki Saules yra 390.625 kartu didesnis\n",
      "iki Menulio su automobiliu esant 150 km/h greiciui numaziuosime per 2560.0 valandu\n"
     ]
    }
   ],
   "source": [
    "print(f'atstumas iki Saules yra {150000000 / 384000} kartu didesnis')\n",
    "print( f'iki Menulio su automobiliu esant 150 km/h greiciui numaziuosime per {384000 / 150} valandu' )\n"
   ]
  },
  {
   "cell_type": "code",
   "execution_count": 70,
   "metadata": {},
   "outputs": [
    {
     "name": "stdout",
     "output_type": "stream",
     "text": [
      "13448\n"
     ]
    }
   ],
   "source": [
    "from datetime import date\n",
    "\n",
    "d0 = date(1986, 4, 15)\n",
    "d1 = date.today()\n",
    "delta = d1 - d0\n",
    "print(delta.days)"
   ]
  },
  {
   "attachments": {},
   "cell_type": "markdown",
   "metadata": {},
   "source": [
    "## Boolean operacijos"
   ]
  },
  {
   "cell_type": "code",
   "execution_count": 78,
   "metadata": {},
   "outputs": [
    {
     "name": "stdout",
     "output_type": "stream",
     "text": [
      "True\n",
      "<class 'bool'>\n",
      "True\n",
      "False\n",
      "<class 'bool'>\n",
      "1\n",
      "0\n"
     ]
    }
   ],
   "source": [
    "bool_true = True\n",
    "\n",
    "print(bool_true)\n",
    "print(type(bool_true))\n",
    "bool_true = bool(1)\n",
    "print(bool_true)\n",
    "bool_false = False\n",
    "print(bool_false)\n",
    "print(type(bool_false))\n",
    "\n",
    "print( int(bool_true) )\n",
    "print( int(bool_false) )"
   ]
  },
  {
   "cell_type": "code",
   "execution_count": 83,
   "metadata": {},
   "outputs": [
    {
     "name": "stdout",
     "output_type": "stream",
     "text": [
      "True\n",
      "True\n",
      "True\n",
      "True\n",
      "False\n"
     ]
    }
   ],
   "source": [
    "print( bool( 1 ))\n",
    "print( bool( -1000 ))\n",
    "print( bool( 123 ))\n",
    "print( bool( 0.00001 ))\n",
    "print( bool( 0 )) #false tik tuo atveju, jeigu yra lygu 0, visa kita True"
   ]
  },
  {
   "cell_type": "code",
   "execution_count": 89,
   "metadata": {},
   "outputs": [
    {
     "name": "stdout",
     "output_type": "stream",
     "text": [
      "True\n",
      "False\n",
      "False\n",
      "True\n",
      "True\n",
      "5 == 5\n",
      "True\n",
      "5 != 5\n",
      "False\n"
     ]
    }
   ],
   "source": [
    "print( 2 < 5 )\n",
    "print( 22 < 5 )\n",
    "print( 2 > 5 )\n",
    "print( 22 > 5 )\n",
    "print( 5 >= 5 )\n",
    "\n",
    "print('5 == 5')\n",
    "print(5 == 5) #dvigubas lygybes zenklas - tikrinimas, viengubas - priskirimas\n",
    "\n",
    "print('5 != 5')\n",
    "print(5 != 5)"
   ]
  },
  {
   "cell_type": "code",
   "execution_count": 94,
   "metadata": {},
   "outputs": [
    {
     "name": "stdout",
     "output_type": "stream",
     "text": [
      "True\n",
      "False\n",
      "False\n",
      "True\n"
     ]
    }
   ],
   "source": [
    "text = 'Hello world'\n",
    "bool_text = 'd' in text\n",
    "print(bool_text)\n",
    "\n",
    "print('D' in text)\n",
    "\n",
    "print(text.islower())\n",
    "print(text.lower().islower())"
   ]
  },
  {
   "cell_type": "code",
   "execution_count": 97,
   "metadata": {},
   "outputs": [
    {
     "name": "stdout",
     "output_type": "stream",
     "text": [
      "False\n",
      "True\n",
      "True\n"
     ]
    }
   ],
   "source": [
    "print( bool('') ) # False tik kai tekstas yra tuscias\n",
    "print( bool(' ') )\n",
    "print( bool('tratt') )"
   ]
  },
  {
   "cell_type": "code",
   "execution_count": 99,
   "metadata": {},
   "outputs": [
    {
     "name": "stdout",
     "output_type": "stream",
     "text": [
      "False\n",
      "True\n"
     ]
    }
   ],
   "source": [
    "print ( not True )\n",
    "print ( not not True )"
   ]
  },
  {
   "cell_type": "code",
   "execution_count": 103,
   "metadata": {},
   "outputs": [
    {
     "name": "stdout",
     "output_type": "stream",
     "text": [
      "and\n",
      "True\n",
      "False\n",
      "or\n",
      "True\n",
      "True\n",
      "False\n"
     ]
    }
   ],
   "source": [
    "print ('and')\n",
    "print (20 > 10 and 5 > 1)\n",
    "print (20 > 10 and 5 < 1)\n",
    "\n",
    "print ('or')\n",
    "print (20 > 10 or 5 > 1)\n",
    "print (20 > 10 or 5 < 1)\n",
    "print (20 < 10 or 5 < 1)"
   ]
  },
  {
   "cell_type": "code",
   "execution_count": 110,
   "metadata": {},
   "outputs": [
    {
     "name": "stdout",
     "output_type": "stream",
     "text": [
      "True\n",
      "True\n",
      "True\n",
      "True\n",
      "True\n",
      "False\n",
      "False\n",
      "False\n",
      "False\n",
      "False\n"
     ]
    }
   ],
   "source": [
    "print (10 > 5)\n",
    "print ('a' in 'auto')\n",
    "test = bool(1)\n",
    "print(test)\n",
    "print(bool('oo'))\n",
    "print( not False )\n",
    "\n",
    "print (10 < 5)\n",
    "print ('A' in 'auto')\n",
    "test = bool(0)\n",
    "print(test)\n",
    "print(bool(''))\n",
    "print( not True )"
   ]
  },
  {
   "cell_type": "code",
   "execution_count": 111,
   "metadata": {},
   "outputs": [
    {
     "name": "stdout",
     "output_type": "stream",
     "text": [
      "False\n",
      "False\n"
     ]
    }
   ],
   "source": [
    "print ('A' in 'auto')\n",
    "test = bool(0)\n",
    "print(test)"
   ]
  },
  {
   "attachments": {},
   "cell_type": "markdown",
   "metadata": {},
   "source": [
    "## List"
   ]
  },
  {
   "cell_type": "code",
   "execution_count": 112,
   "metadata": {},
   "outputs": [],
   "source": [
    "cities = [ 'Vilnius', 'Kaunas', 'Klaipeda']"
   ]
  },
  {
   "cell_type": "code",
   "execution_count": 117,
   "metadata": {},
   "outputs": [
    {
     "name": "stdout",
     "output_type": "stream",
     "text": [
      "['Vilnius', 'Kaunas', 'Klaipeda']\n",
      "Vilnius\n",
      "<class 'list'>\n",
      "<class 'str'>\n",
      "['Kaunas', 'Klaipeda']\n"
     ]
    }
   ],
   "source": [
    "print(cities)\n",
    "print(cities[0])\n",
    "print(type(cities))\n",
    "print(type(cities[0]))\n",
    "print(cities[1:])"
   ]
  },
  {
   "cell_type": "code",
   "execution_count": 121,
   "metadata": {},
   "outputs": [
    {
     "name": "stdout",
     "output_type": "stream",
     "text": [
      "<class 'int'>\n"
     ]
    }
   ],
   "source": [
    "numbers = [15, 654, 769, 238, '5']\n",
    "print(type(numbers[0]))"
   ]
  },
  {
   "cell_type": "code",
   "execution_count": 126,
   "metadata": {},
   "outputs": [
    {
     "name": "stdout",
     "output_type": "stream",
     "text": [
      "[154, 44, 33]\n",
      "[154, 44, 33, 51]\n"
     ]
    }
   ],
   "source": [
    "numbers = [154, 44, 33]\n",
    "print(numbers)\n",
    "numbers.append( 51 )\n",
    "print(numbers)"
   ]
  },
  {
   "cell_type": "code",
   "execution_count": 127,
   "metadata": {},
   "outputs": [
    {
     "data": {
      "text/plain": [
       "1"
      ]
     },
     "execution_count": 127,
     "metadata": {},
     "output_type": "execute_result"
    }
   ],
   "source": [
    "numbers.count(51)"
   ]
  },
  {
   "cell_type": "code",
   "execution_count": 134,
   "metadata": {},
   "outputs": [
    {
     "name": "stdout",
     "output_type": "stream",
     "text": [
      "[154, 44, 33, 51]\n",
      "[154, 44, 33, 51, [100, 100]]\n",
      "[100, 100]\n",
      "5\n",
      "[154, 44, 33, 51, [100, 100], 100, 100]\n",
      "7\n"
     ]
    },
    {
     "data": {
      "text/plain": [
       "2"
      ]
     },
     "execution_count": 134,
     "metadata": {},
     "output_type": "execute_result"
    }
   ],
   "source": [
    "numbers = [154, 44, 33]\n",
    "numbers.append( 51 )\n",
    "print(numbers)\n",
    "numbers.append( [100, 100] )\n",
    "print(numbers)\n",
    "print(numbers[-1])\n",
    "print(len(numbers))\n",
    "\n",
    "numbers.extend( [100, 100])\n",
    "print(numbers)\n",
    "print(len(numbers))\n",
    "numbers.count(100) # komandos veikia auksciausiame lygmenyje"
   ]
  },
  {
   "cell_type": "code",
   "execution_count": 135,
   "metadata": {},
   "outputs": [
    {
     "data": {
      "text/plain": [
       "5"
      ]
     },
     "execution_count": 135,
     "metadata": {},
     "output_type": "execute_result"
    }
   ],
   "source": [
    "numbers.index(100)"
   ]
  },
  {
   "cell_type": "code",
   "execution_count": 141,
   "metadata": {},
   "outputs": [
    {
     "name": "stdout",
     "output_type": "stream",
     "text": [
      "[154, 500, 500, 500, 44, 33, 51, [100, 100], 100]\n"
     ]
    }
   ],
   "source": [
    "numbers.insert(1, 500)\n",
    "print(numbers)"
   ]
  },
  {
   "cell_type": "code",
   "execution_count": 137,
   "metadata": {},
   "outputs": [
    {
     "name": "stdout",
     "output_type": "stream",
     "text": [
      "[154, 500, 44, 33, 51, [100, 100], 100, 100]\n",
      "100\n",
      "[154, 500, 44, 33, 51, [100, 100], 100]\n"
     ]
    }
   ],
   "source": [
    "print(numbers)\n",
    "print(numbers.pop())\n",
    "print(numbers)"
   ]
  },
  {
   "cell_type": "code",
   "execution_count": 142,
   "metadata": {},
   "outputs": [
    {
     "name": "stdout",
     "output_type": "stream",
     "text": [
      "[154, 500, 500, 500, 44, 33, 51, [100, 100], 100]\n",
      "None\n",
      "[154, 500, 500, 44, 33, 51, [100, 100], 100]\n"
     ]
    }
   ],
   "source": [
    "print(numbers)\n",
    "print(numbers.remove(500)) # klaida, jei neegzistuoja\n",
    "print(numbers)"
   ]
  },
  {
   "cell_type": "code",
   "execution_count": 159,
   "metadata": {},
   "outputs": [
    {
     "name": "stdout",
     "output_type": "stream",
     "text": [
      "65\n",
      "65\n"
     ]
    }
   ],
   "source": [
    "nested_list = [654, [[[48, [['65']]], 57]]]\n",
    "list_1 = nested_list[1]\n",
    "list_2 = list_1[0]\n",
    "list_3 = list_2[0]\n",
    "list_4 = list_3[1]\n",
    "list_5 = list_4[0]\n",
    "list_6 = list_5[0]\n",
    "print(list_6)\n",
    "\n",
    "new_list= nested_list[1][0][0][1][0][0]\n",
    "print(new_list)"
   ]
  },
  {
   "cell_type": "code",
   "execution_count": 167,
   "metadata": {},
   "outputs": [
    {
     "name": "stdout",
     "output_type": "stream",
     "text": [
      "[154, 500, 500, 44, 33, 51, [100, 100], 100]\n",
      "[154, 500, 500, 44, 33, 51, [100, 100], 100]\n"
     ]
    }
   ],
   "source": [
    "numbers.reverse()\n",
    "print(numbers)\n"
   ]
  },
  {
   "cell_type": "code",
   "execution_count": 170,
   "metadata": {},
   "outputs": [
    {
     "data": {
      "text/plain": [
       "[100, [100, 100], 51, 33, 44, 500, 500, 154]"
      ]
     },
     "execution_count": 170,
     "metadata": {},
     "output_type": "execute_result"
    }
   ],
   "source": [
    "numbers[::-1]"
   ]
  },
  {
   "cell_type": "code",
   "execution_count": 178,
   "metadata": {},
   "outputs": [
    {
     "name": "stdout",
     "output_type": "stream",
     "text": [
      "[33, 44, 51, 100, 154, 500, 500]\n",
      "[500, 500, 154, 100, 51, 44, 33]\n"
     ]
    }
   ],
   "source": [
    "numbers = [154, 500, 500, 44, 33, 51, 100]\n",
    "numbers.sort()\n",
    "print(numbers)\n",
    "\n",
    "numbers = [154, 500, 500, 44, 33, 51, 100]\n",
    "numbers.sort(reverse = True)\n",
    "print(numbers)"
   ]
  },
  {
   "cell_type": "code",
   "execution_count": 180,
   "metadata": {},
   "outputs": [
    {
     "name": "stdout",
     "output_type": "stream",
     "text": [
      "[33, 44, 51, 100, 154, 500, 500]\n",
      "[154, 500, 500, 44, 33, 51, 100]\n",
      "[500, 500, 154, 100, 51, 44, 33]\n",
      "[154, 500, 500, 44, 33, 51, 100]\n"
     ]
    }
   ],
   "source": [
    "numbers = [154, 500, 500, 44, 33, 51, 100]\n",
    "print ( sorted(numbers))\n",
    "print(numbers)\n",
    "\n",
    "print ( sorted(numbers, reverse = True))\n",
    "print(numbers)"
   ]
  },
  {
   "cell_type": "code",
   "execution_count": 181,
   "metadata": {},
   "outputs": [
    {
     "name": "stdout",
     "output_type": "stream",
     "text": [
      "['Vilnius', 'Kaunas', 'Klaipeda']\n"
     ]
    }
   ],
   "source": [
    "print(cities)"
   ]
  },
  {
   "cell_type": "code",
   "execution_count": 182,
   "metadata": {},
   "outputs": [
    {
     "name": "stdout",
     "output_type": "stream",
     "text": [
      "['Vilnius', 'Kaunas', 'Siauliai']\n"
     ]
    }
   ],
   "source": [
    "cities[2] = 'Siauliai'\n",
    "print(cities)"
   ]
  },
  {
   "cell_type": "code",
   "execution_count": 187,
   "metadata": {},
   "outputs": [
    {
     "name": "stdout",
     "output_type": "stream",
     "text": [
      "True\n",
      "False\n"
     ]
    }
   ],
   "source": [
    "print('Vilnius' in cities)\n",
    "print('Klaipeda' in cities)"
   ]
  },
  {
   "cell_type": "code",
   "execution_count": 189,
   "metadata": {},
   "outputs": [
    {
     "name": "stdout",
     "output_type": "stream",
     "text": [
      "False\n",
      "True\n"
     ]
    }
   ],
   "source": [
    "print( bool([])) #False kai yra tuscias\n",
    "print( bool([0]))"
   ]
  },
  {
   "attachments": {},
   "cell_type": "markdown",
   "metadata": {},
   "source": [
    "### Operators with lists"
   ]
  },
  {
   "cell_type": "code",
   "execution_count": 192,
   "metadata": {},
   "outputs": [
    {
     "name": "stdout",
     "output_type": "stream",
     "text": [
      "[1, 2, 3, 'a', 'b', 'c']\n"
     ]
    }
   ],
   "source": [
    "combined = [1, 2, 3] + ['a', 'b', 'c']\n",
    "print(combined)"
   ]
  },
  {
   "cell_type": "code",
   "execution_count": 194,
   "metadata": {},
   "outputs": [
    {
     "name": "stdout",
     "output_type": "stream",
     "text": [
      "[1, 2, 3, 'a', 'b', 'c', 1, 2, 3, 'a', 'b', 'c', 1, 2, 3, 'a', 'b', 'c', 1, 2, 3, 'a', 'b', 'c', 1, 2, 3, 'a', 'b', 'c', 1, 2, 3, 'a', 'b', 'c', 1, 2, 3, 'a', 'b', 'c', 1, 2, 3, 'a', 'b', 'c', 1, 2, 3, 'a', 'b', 'c', 1, 2, 3, 'a', 'b', 'c']\n"
     ]
    }
   ],
   "source": [
    "print(combined * 10)"
   ]
  },
  {
   "cell_type": "code",
   "execution_count": null,
   "metadata": {},
   "outputs": [],
   "source": [
    "combined = [1, 2, 3] + ['a', 'b', 'c'] # klaida\n",
    "print(combined)"
   ]
  },
  {
   "cell_type": "code",
   "execution_count": 198,
   "metadata": {},
   "outputs": [
    {
     "name": "stdout",
     "output_type": "stream",
     "text": [
      "<class 'list'>\n",
      "<class 'tuple'>\n"
     ]
    }
   ],
   "source": [
    "print( type ( [] ))\n",
    "print( type ( () ))"
   ]
  }
 ],
 "metadata": {
  "kernelspec": {
   "display_name": "base",
   "language": "python",
   "name": "python3"
  },
  "language_info": {
   "codemirror_mode": {
    "name": "ipython",
    "version": 3
   },
   "file_extension": ".py",
   "mimetype": "text/x-python",
   "name": "python",
   "nbconvert_exporter": "python",
   "pygments_lexer": "ipython3",
   "version": "3.9.13"
  },
  "orig_nbformat": 4,
  "vscode": {
   "interpreter": {
    "hash": "db1554e7e80c267642f7d4792a14c0fc63a46532c83b93ba56eb15c1168c221a"
   }
  }
 },
 "nbformat": 4,
 "nbformat_minor": 2
}
