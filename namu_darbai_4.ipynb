{
 "cells": [
  {
   "cell_type": "code",
   "execution_count": 103,
   "metadata": {},
   "outputs": [],
   "source": [
    "# Parašykite funkciją, kuri priims string tipo kintamąjį, gražinkite kiek tame stringę \n",
    "# yra raidžių, skaičių ir skyrybos (specialių) ženklų, tarpų.\n",
    "\n",
    "def simboliu_ieskotojas (zodis):\n",
    "    x = 0\n",
    "    y = 0\n",
    "    z = 0\n",
    "    r = 0\n",
    "    for element in zodis:\n",
    "        if element.isdigit():\n",
    "            x +=1\n",
    "        elif element.isalpha():\n",
    "            y +=1\n",
    "        elif element.isspace():\n",
    "            z +=1\n",
    "        else:\n",
    "            r +=1\n",
    "    print(f'skaiciu {x}, raidziu {y}, tarpu {z}, simboliu {r}')"
   ]
  },
  {
   "cell_type": "code",
   "execution_count": 104,
   "metadata": {},
   "outputs": [
    {
     "name": "stdout",
     "output_type": "stream",
     "text": [
      "skaiciu 1, raidziu 6, tarpu 2, simboliu 2\n"
     ]
    }
   ],
   "source": [
    "simboliu_ieskotojas('vienas 2 ??')"
   ]
  },
  {
   "cell_type": "code",
   "execution_count": 6,
   "metadata": {},
   "outputs": [],
   "source": [
    "# Parašykite funkciją, kuri priima tris skaičius, jie reikš nuo, iki ir žingsnis. \n",
    "# Funkcija turi grąžinti listą skaičių tokių, kokius padavėte funkcijai\n",
    "\n",
    "def skaiciuKurejas (x, y, z):\n",
    "    eile = list(range(x, y, z))\n",
    "    return eile\n"
   ]
  },
  {
   "cell_type": "code",
   "execution_count": 7,
   "metadata": {},
   "outputs": [
    {
     "name": "stdout",
     "output_type": "stream",
     "text": [
      "[10, 15, 20, 25, 30, 35, 40, 45, 50, 55, 60, 65, 70, 75, 80, 85, 90, 95]\n"
     ]
    }
   ],
   "source": [
    "print(skaiciuKurejas(10,100,5)) "
   ]
  },
  {
   "cell_type": "code",
   "execution_count": 109,
   "metadata": {},
   "outputs": [],
   "source": [
    "# Parašyti funkciją, kuri priima vieną list tipo kintamąjį, funkcija grąžina skirtumą \n",
    "# tarp didžiausio skaičiaus ir mažiausio skaičiaus.\n",
    "\n",
    "def myFunction(sarasas):\n",
    "    print(max(sarasas) - min(sarasas))"
   ]
  },
  {
   "cell_type": "code",
   "execution_count": 112,
   "metadata": {},
   "outputs": [
    {
     "name": "stdout",
     "output_type": "stream",
     "text": [
      "9\n"
     ]
    }
   ],
   "source": [
    "myFunction([1, 5, 6, 10, 4])"
   ]
  },
  {
   "cell_type": "code",
   "execution_count": null,
   "metadata": {},
   "outputs": [],
   "source": []
  }
 ],
 "metadata": {
  "kernelspec": {
   "display_name": "base",
   "language": "python",
   "name": "python3"
  },
  "language_info": {
   "codemirror_mode": {
    "name": "ipython",
    "version": 3
   },
   "file_extension": ".py",
   "mimetype": "text/x-python",
   "name": "python",
   "nbconvert_exporter": "python",
   "pygments_lexer": "ipython3",
   "version": "3.9.13"
  },
  "orig_nbformat": 4,
  "vscode": {
   "interpreter": {
    "hash": "40d3a090f54c6569ab1632332b64b2c03c39dcf918b08424e98f38b5ae0af88f"
   }
  }
 },
 "nbformat": 4,
 "nbformat_minor": 2
}
