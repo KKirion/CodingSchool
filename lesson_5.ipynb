{
 "cells": [
  {
   "cell_type": "markdown",
   "metadata": {},
   "source": [
    "# Funkcijos"
   ]
  },
  {
   "cell_type": "code",
   "execution_count": 96,
   "metadata": {},
   "outputs": [],
   "source": [
    "# def - define\n",
    "def print_hello():\n",
    "    print('Hello world!')"
   ]
  },
  {
   "cell_type": "code",
   "execution_count": 97,
   "metadata": {},
   "outputs": [
    {
     "name": "stdout",
     "output_type": "stream",
     "text": [
      "Hello world!\n"
     ]
    }
   ],
   "source": [
    "print_hello()"
   ]
  },
  {
   "cell_type": "code",
   "execution_count": 98,
   "metadata": {},
   "outputs": [],
   "source": [
    "#Mandatory/positional argument\n",
    "def hello_to(name):\n",
    "    print(f'Hello {name}!')"
   ]
  },
  {
   "cell_type": "code",
   "execution_count": 99,
   "metadata": {},
   "outputs": [
    {
     "name": "stdout",
     "output_type": "stream",
     "text": [
      "Hello Morka!\n",
      "Hello Zufke!\n"
     ]
    }
   ],
   "source": [
    "hello_to('Morka')\n",
    "hello_to('Zufke')"
   ]
  },
  {
   "cell_type": "code",
   "execution_count": 100,
   "metadata": {},
   "outputs": [],
   "source": [
    "def hello_to_2(name):\n",
    "    return f'Hello {name}!'"
   ]
  },
  {
   "cell_type": "code",
   "execution_count": 101,
   "metadata": {},
   "outputs": [
    {
     "name": "stdout",
     "output_type": "stream",
     "text": [
      "Hello Morka!\n",
      "Hello Toras! Eik i vieta\n"
     ]
    }
   ],
   "source": [
    "hello_to_2('Kukulis')\n",
    "print(hello_to_2('Morka'))\n",
    "message = hello_to_2('Toras')\n",
    "message += ' Eik i vieta'\n",
    "print(message)\n",
    "x= 2"
   ]
  },
  {
   "cell_type": "code",
   "execution_count": 176,
   "metadata": {},
   "outputs": [],
   "source": [
    "def hello_to_2(name):\n",
    "    # Docstring - Documentation string\n",
    "    \"\"\"\n",
    "    Create a greeting message based on a person's 'name'\n",
    "    \"\"\"\n",
    "    return f'Hello {name}!'"
   ]
  },
  {
   "cell_type": "code",
   "execution_count": 177,
   "metadata": {},
   "outputs": [],
   "source": [
    "def subtract_numbers(num1, num2):\n",
    "    return num1 - num2"
   ]
  },
  {
   "cell_type": "code",
   "execution_count": 178,
   "metadata": {},
   "outputs": [
    {
     "name": "stdout",
     "output_type": "stream",
     "text": [
      "22\n"
     ]
    }
   ],
   "source": [
    "ats = subtract_numbers(30, 8)\n",
    "print(ats)"
   ]
  },
  {
   "cell_type": "code",
   "execution_count": 179,
   "metadata": {},
   "outputs": [],
   "source": [
    "#optional argymanets\n",
    "def subtract_numbers(num1, num2 = 5):\n",
    "    return num1 - num2"
   ]
  },
  {
   "cell_type": "code",
   "execution_count": 180,
   "metadata": {},
   "outputs": [
    {
     "name": "stdout",
     "output_type": "stream",
     "text": [
      "13\n",
      "16\n"
     ]
    }
   ],
   "source": [
    "ats = subtract_numbers(18)\n",
    "print(ats)\n",
    "ats = subtract_numbers(18, 2)\n",
    "print(ats)"
   ]
  },
  {
   "cell_type": "code",
   "execution_count": 181,
   "metadata": {},
   "outputs": [],
   "source": [
    "def add_number(num1, num2):\n",
    "    print('funkcijos pradzia')\n",
    "    if not isinstance(num1, int):\n",
    "        print('pirmas argumentas nera skaicius')\n",
    "        return\n",
    "    print('grazinam suma')\n",
    "    return num1+ num2"
   ]
  },
  {
   "cell_type": "code",
   "execution_count": 182,
   "metadata": {},
   "outputs": [
    {
     "name": "stdout",
     "output_type": "stream",
     "text": [
      "funkcijos pradzia\n",
      "pirmas argumentas nera skaicius\n"
     ]
    }
   ],
   "source": [
    "add_number('a', 2)"
   ]
  },
  {
   "cell_type": "code",
   "execution_count": 109,
   "metadata": {},
   "outputs": [],
   "source": [
    "def product_of_numbers( *args ):\n",
    "    # print(args)\n",
    "    # print(type(args))\n",
    "    result = 1\n",
    "    for number in args:\n",
    "        result *= number\n",
    "    return result"
   ]
  },
  {
   "cell_type": "code",
   "execution_count": 110,
   "metadata": {},
   "outputs": [
    {
     "data": {
      "text/plain": [
       "62216985600"
      ]
     },
     "execution_count": 110,
     "metadata": {},
     "output_type": "execute_result"
    }
   ],
   "source": [
    "product_of_numbers(165, 49, 64, 4, 4, 167, 45)"
   ]
  },
  {
   "attachments": {},
   "cell_type": "markdown",
   "metadata": {},
   "source": [
    "# local vs global scope"
   ]
  },
  {
   "cell_type": "code",
   "execution_count": 111,
   "metadata": {},
   "outputs": [
    {
     "name": "stdout",
     "output_type": "stream",
     "text": [
      "from function: global\n"
     ]
    },
    {
     "ename": "NameError",
     "evalue": "name 'result' is not defined",
     "output_type": "error",
     "traceback": [
      "\u001b[0;31m---------------------------------------------------------------------------\u001b[0m",
      "\u001b[0;31mNameError\u001b[0m                                 Traceback (most recent call last)",
      "\u001b[0;32m/var/folders/7c/60zcq1pn4gbf6yrdtdr9nm040000gn/T/ipykernel_7092/643529325.py\u001b[0m in \u001b[0;36m<module>\u001b[0;34m\u001b[0m\n\u001b[1;32m     13\u001b[0m \u001b[0;34m\u001b[0m\u001b[0m\n\u001b[1;32m     14\u001b[0m \u001b[0mproduct_of_numbers\u001b[0m\u001b[0;34m(\u001b[0m\u001b[0;36m2\u001b[0m\u001b[0;34m)\u001b[0m\u001b[0;34m\u001b[0m\u001b[0;34m\u001b[0m\u001b[0m\n\u001b[0;32m---> 15\u001b[0;31m \u001b[0mprint\u001b[0m\u001b[0;34m(\u001b[0m\u001b[0mresult\u001b[0m\u001b[0;34m)\u001b[0m\u001b[0;34m\u001b[0m\u001b[0;34m\u001b[0m\u001b[0m\n\u001b[0m",
      "\u001b[0;31mNameError\u001b[0m: name 'result' is not defined"
     ]
    }
   ],
   "source": [
    "# GLOBAL SCOPE\n",
    "some_global_var = 'global'\n",
    "\n",
    "def product_of_numbers( *args ):\n",
    "    # LOCAL SCOPE\n",
    "    # print(args)\n",
    "    # print(type(args))\n",
    "    print('from function:', some_global_var ) # nedarykite to\n",
    "    result = 1\n",
    "    for number in args:\n",
    "        result *= number\n",
    "    return result\n",
    "\n",
    "product_of_numbers(2)\n",
    "print(result)"
   ]
  },
  {
   "cell_type": "code",
   "execution_count": null,
   "metadata": {},
   "outputs": [],
   "source": [
    "# GLOBAL SCOPE\n",
    "some_global_var = 'global'\n",
    "\n",
    "def product_of_numbers_2( *args, text ):\n",
    "    # LOCAL SCOPE\n",
    "    # print(args)\n",
    "    # print(type(args))\n",
    "    print('from function:', text )\n",
    "    result = 1\n",
    "    for number in args:\n",
    "        result *= number\n",
    "    return result\n",
    "\n",
    "product_of_numbers_2(23, 15, text = some_global_var)"
   ]
  },
  {
   "cell_type": "code",
   "execution_count": 183,
   "metadata": {},
   "outputs": [],
   "source": [
    "# kwargs = keyword argument\n",
    "def kwargs_exapmle( **kwargs ):\n",
    "    print(kwargs)\n",
    "    print(type(kwargs))\n",
    "    for k, v in kwargs.items():\n",
    "        print( f'key {k} has a value of {v}')"
   ]
  },
  {
   "cell_type": "code",
   "execution_count": 184,
   "metadata": {},
   "outputs": [
    {
     "name": "stdout",
     "output_type": "stream",
     "text": [
      "{'name': 'Kiril', 'age': 36, 'number': 31577}\n",
      "<class 'dict'>\n",
      "key name has a value of Kiril\n",
      "key age has a value of 36\n",
      "key number has a value of 31577\n"
     ]
    }
   ],
   "source": [
    "kwargs_exapmle(name = 'Kiril', age = 36, number = 31577)"
   ]
  },
  {
   "cell_type": "code",
   "execution_count": 185,
   "metadata": {},
   "outputs": [],
   "source": [
    "def function_1 (num1, num2):\n",
    "    if (num1 + num2) % 2 == 0:\n",
    "        return f'{num1} X {num2} = {num1 * num2}'\n",
    "    else:\n",
    "        return f'{num1} / {num2} = {num1 / num2}'"
   ]
  },
  {
   "cell_type": "code",
   "execution_count": 186,
   "metadata": {},
   "outputs": [
    {
     "data": {
      "text/plain": [
       "'2 / 7 = 0.2857142857142857'"
      ]
     },
     "execution_count": 186,
     "metadata": {},
     "output_type": "execute_result"
    }
   ],
   "source": [
    "function_1 (2, 7)"
   ]
  },
  {
   "cell_type": "code",
   "execution_count": 187,
   "metadata": {},
   "outputs": [],
   "source": [
    "def function_2(x):\n",
    "    x = input(f'Iveskite zodi')\n",
    "    print(x)"
   ]
  },
  {
   "cell_type": "code",
   "execution_count": 188,
   "metadata": {},
   "outputs": [],
   "source": [
    "def function_3 ( *args):\n",
    "    numbers = range(1,11)\n",
    "    new_dict = {}\n",
    "    for number in numbers:\n",
    "        x = 0\n",
    "        for value in args:\n",
    "            if value % number == 0:\n",
    "                x += 1\n",
    "        new_dict[number] = x\n",
    "    return new_dict\n"
   ]
  },
  {
   "cell_type": "code",
   "execution_count": 189,
   "metadata": {},
   "outputs": [
    {
     "data": {
      "text/plain": [
       "{1: 4, 2: 2, 3: 1, 4: 0, 5: 2, 6: 1, 7: 0, 8: 0, 9: 0, 10: 1}"
      ]
     },
     "execution_count": 189,
     "metadata": {},
     "output_type": "execute_result"
    }
   ],
   "source": [
    "function_3 (1, 2 ,65, 30)"
   ]
  },
  {
   "cell_type": "code",
   "execution_count": 190,
   "metadata": {},
   "outputs": [],
   "source": [
    "def mano_funkcija( *args ):\n",
    "    result = {}\n",
    "    for key in range(1,11):\n",
    "        result[key] = 0\n",
    "        # print(result)\n",
    "        # print(args)\n",
    "        for arg in args:\n",
    "            if arg % key == 0:\n",
    "                result[key] += 1\n",
    "    return result"
   ]
  },
  {
   "cell_type": "code",
   "execution_count": 191,
   "metadata": {},
   "outputs": [
    {
     "data": {
      "text/plain": [
       "{1: 4, 2: 2, 3: 1, 4: 0, 5: 2, 6: 1, 7: 0, 8: 0, 9: 0, 10: 1}"
      ]
     },
     "execution_count": 191,
     "metadata": {},
     "output_type": "execute_result"
    }
   ],
   "source": [
    "mano_funkcija(1, 2, 65, 30)"
   ]
  },
  {
   "cell_type": "markdown",
   "metadata": {},
   "source": [
    "# Lambda"
   ]
  },
  {
   "cell_type": "code",
   "execution_count": 168,
   "metadata": {},
   "outputs": [],
   "source": [
    "zodziai = ['as', 'mes', 'namas', 'kompiuteris', 'stalas']"
   ]
  },
  {
   "cell_type": "code",
   "execution_count": 169,
   "metadata": {},
   "outputs": [
    {
     "data": {
      "text/plain": [
       "['as', 'kompiuteris', 'mes', 'namas', 'stalas']"
      ]
     },
     "execution_count": 169,
     "metadata": {},
     "output_type": "execute_result"
    }
   ],
   "source": [
    "sorted(zodziai)"
   ]
  },
  {
   "cell_type": "code",
   "execution_count": 170,
   "metadata": {},
   "outputs": [
    {
     "data": {
      "text/plain": [
       "['as', 'mes', 'namas', 'stalas', 'kompiuteris']"
      ]
     },
     "execution_count": 170,
     "metadata": {},
     "output_type": "execute_result"
    }
   ],
   "source": [
    "sorted(zodziai, key = lambda x: len(x))"
   ]
  },
  {
   "cell_type": "code",
   "execution_count": 171,
   "metadata": {},
   "outputs": [
    {
     "data": {
      "text/plain": [
       "['mes', 'kompiuteris', 'as', 'namas', 'stalas']"
      ]
     },
     "execution_count": 171,
     "metadata": {},
     "output_type": "execute_result"
    }
   ],
   "source": [
    "sorted(zodziai, key = lambda x: x.count('a'))"
   ]
  },
  {
   "cell_type": "code",
   "execution_count": 172,
   "metadata": {},
   "outputs": [
    {
     "data": {
      "text/plain": [
       "['as', 'namas', 'stalas']"
      ]
     },
     "execution_count": 172,
     "metadata": {},
     "output_type": "execute_result"
    }
   ],
   "source": [
    "list( filter (lambda x: 'a' in x, zodziai) )"
   ]
  },
  {
   "attachments": {},
   "cell_type": "markdown",
   "metadata": {},
   "source": [
    "# While loop"
   ]
  },
  {
   "cell_type": "code",
   "execution_count": 175,
   "metadata": {},
   "outputs": [
    {
     "name": "stdout",
     "output_type": "stream",
     "text": [
      "0\n",
      "1\n",
      "2\n",
      "3\n",
      "4\n",
      "4\n",
      "4\n"
     ]
    }
   ],
   "source": [
    "import random\n",
    "\n",
    "x = 0\n",
    "while x < 5:\n",
    "    print(x)\n",
    "    if random.random() < 0.4:\n",
    "        x += 1"
   ]
  },
  {
   "cell_type": "code",
   "execution_count": 194,
   "metadata": {},
   "outputs": [
    {
     "name": "stdout",
     "output_type": "stream",
     "text": [
      "hello\n",
      "hello\n",
      "hello\n",
      "hello\n",
      "hello\n",
      "hello\n",
      "hello\n",
      "ciklas baigtas\n"
     ]
    }
   ],
   "source": [
    "while True:\n",
    "    print( 'hello' )\n",
    "    if random.random() < 0.1:\n",
    "        break # sustabdo cikla. veikia ir for loop'e\n",
    "print('ciklas baigtas')"
   ]
  },
  {
   "cell_type": "code",
   "execution_count": 3,
   "metadata": {},
   "outputs": [
    {
     "name": "stdout",
     "output_type": "stream",
     "text": [
      "[10, 9, 6, 2, 7]\n",
      "[20, 642, 33, 76]\n",
      "34\n",
      "771\n"
     ]
    },
    {
     "data": {
      "text/plain": [
       "26214"
      ]
     },
     "execution_count": 3,
     "metadata": {},
     "output_type": "execute_result"
    }
   ],
   "source": [
    "def funkcija1 (list1, list2):\n",
    "    new_list1 = []\n",
    "    new_list2 = []\n",
    "    result1 = 0\n",
    "    result2 = 0\n",
    "    for number in list1:\n",
    "        if number <= 10:\n",
    "            new_list1.append(number)\n",
    "    for number in new_list1:\n",
    "        result1 += number\n",
    "    for number in list2:\n",
    "        if abs(number) >= 10:\n",
    "            new_list2.append(number)\n",
    "    for number in new_list2:\n",
    "        result2 += number\n",
    "    print(new_list1)\n",
    "    print(new_list2)\n",
    "    print(result1)\n",
    "    print(result2)\n",
    "    return result1 * result2\n",
    "\n",
    "\n",
    "funkcija1([10,9,6,16,15,55,2,7],[20,642,33,76,9,7,2])\n"
   ]
  },
  {
   "cell_type": "code",
   "execution_count": null,
   "metadata": {},
   "outputs": [],
   "source": []
  }
 ],
 "metadata": {
  "kernelspec": {
   "display_name": "base",
   "language": "python",
   "name": "python3"
  },
  "language_info": {
   "codemirror_mode": {
    "name": "ipython",
    "version": 3
   },
   "file_extension": ".py",
   "mimetype": "text/x-python",
   "name": "python",
   "nbconvert_exporter": "python",
   "pygments_lexer": "ipython3",
   "version": "3.9.13"
  },
  "orig_nbformat": 4,
  "vscode": {
   "interpreter": {
    "hash": "40d3a090f54c6569ab1632332b64b2c03c39dcf918b08424e98f38b5ae0af88f"
   }
  }
 },
 "nbformat": 4,
 "nbformat_minor": 2
}
