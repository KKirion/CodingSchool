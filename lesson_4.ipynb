{
 "cells": [
  {
   "cell_type": "markdown",
   "metadata": {},
   "source": [
    "# List comprehension"
   ]
  },
  {
   "cell_type": "code",
   "execution_count": 2,
   "metadata": {},
   "outputs": [
    {
     "name": "stdout",
     "output_type": "stream",
     "text": [
      "[3, 6, 9, 12, 15, 18]\n"
     ]
    }
   ],
   "source": [
    "numbers = list(range(1,21))\n",
    "dividible_by_3 = []\n",
    "for number in numbers:\n",
    "    if number % 3 == 0:\n",
    "        dividible_by_3.append(number)\n",
    "print(dividible_by_3)"
   ]
  },
  {
   "cell_type": "code",
   "execution_count": 3,
   "metadata": {},
   "outputs": [
    {
     "name": "stdout",
     "output_type": "stream",
     "text": [
      "[3, 6, 9, 12, 15, 18]\n"
     ]
    }
   ],
   "source": [
    "dividible_by_3 = [ number for number in numbers if number % 3 == 0 ]\n",
    "print(dividible_by_3)"
   ]
  },
  {
   "cell_type": "code",
   "execution_count": 5,
   "metadata": {},
   "outputs": [
    {
     "name": "stdout",
     "output_type": "stream",
     "text": [
      "[40, 80, 120, 160, 200]\n"
     ]
    }
   ],
   "source": [
    "dividible_by_3 = [ number * 10 for number in numbers if number % 4 == 0 ]\n",
    "print(dividible_by_3)"
   ]
  },
  {
   "cell_type": "code",
   "execution_count": 6,
   "metadata": {},
   "outputs": [
    {
     "name": "stdout",
     "output_type": "stream",
     "text": [
      "['1 nesidalina is 3', '2 nesidalina is 3', 3, '4 nesidalina is 3', '5 nesidalina is 3', 6, '7 nesidalina is 3', '8 nesidalina is 3', 9, '10 nesidalina is 3', '11 nesidalina is 3', 12, '13 nesidalina is 3', '14 nesidalina is 3', 15, '16 nesidalina is 3', '17 nesidalina is 3', 18, '19 nesidalina is 3', '20 nesidalina is 3']\n"
     ]
    }
   ],
   "source": [
    "dividible_by_3 = [ number if number % 3 ==0 else f'{number} nesidalina is 3' for number in range (1,21) ]\n",
    "print(dividible_by_3)"
   ]
  },
  {
   "cell_type": "code",
   "execution_count": 7,
   "metadata": {},
   "outputs": [
    {
     "name": "stdout",
     "output_type": "stream",
     "text": [
      "[2, 4, 6, 8, 10, 12, 14, 16, 18, 20, 22, 24, 26, 28, 30, 32, 34, 36, 38, 40]\n"
     ]
    }
   ],
   "source": [
    "double = [ number * 2 for number in numbers ]\n",
    "print (double)"
   ]
  },
  {
   "cell_type": "markdown",
   "metadata": {},
   "source": [
    "# None a.k.a null, nill, NaN - Not a Number"
   ]
  },
  {
   "cell_type": "code",
   "execution_count": 8,
   "metadata": {},
   "outputs": [
    {
     "name": "stdout",
     "output_type": "stream",
     "text": [
      "None\n",
      "<class 'NoneType'>\n"
     ]
    }
   ],
   "source": [
    "niekas = None\n",
    "print (niekas)\n",
    "print(type(niekas))"
   ]
  },
  {
   "cell_type": "code",
   "execution_count": 11,
   "metadata": {},
   "outputs": [
    {
     "name": "stdout",
     "output_type": "stream",
     "text": [
      "Sveikas Kiril!\n"
     ]
    }
   ],
   "source": [
    "import random\n",
    "vardas = ''\n",
    "if random.random() > 0.5:\n",
    "    vardas = input('Iveskite varda:')\n",
    "\n",
    "if vardas != '':\n",
    "    print( f'Sveikas {vardas}!')"
   ]
  },
  {
   "cell_type": "code",
   "execution_count": 18,
   "metadata": {},
   "outputs": [
    {
     "name": "stdout",
     "output_type": "stream",
     "text": [
      "Jus nenurodete vardo\n"
     ]
    }
   ],
   "source": [
    "import random\n",
    "vardas = None\n",
    "if random.random() > 0.5:\n",
    "    vardas = input('Iveskite varda:')\n",
    "\n",
    "if vardas != None and vardas != '':\n",
    "    print( f'Sveikas {vardas}!')\n",
    "elif vardas != None and vardas == '':\n",
    "    print('Bandykite dar karta')\n",
    "else:\n",
    "    print('Jus nenurodete vardo')"
   ]
  },
  {
   "cell_type": "code",
   "execution_count": 23,
   "metadata": {},
   "outputs": [
    {
     "name": "stdout",
     "output_type": "stream",
     "text": [
      "None\n",
      "[1, 100]\n",
      "1\n"
     ]
    }
   ],
   "source": [
    "list_1 = [1]\n",
    "print (list_1.append(100))\n",
    "print(list_1)\n",
    "print(list_1.count(1))"
   ]
  },
  {
   "attachments": {},
   "cell_type": "markdown",
   "metadata": {},
   "source": [
    "# Dictionary"
   ]
  },
  {
   "cell_type": "code",
   "execution_count": 25,
   "metadata": {},
   "outputs": [
    {
     "name": "stdout",
     "output_type": "stream",
     "text": [
      "{'vardas': 'Kiril', 'pavarde': 'Sanko', 'amzius': 36}\n"
     ]
    }
   ],
   "source": [
    "me = {\n",
    "    'vardas': 'Kiril',\n",
    "    'pavarde': 'Sanko',\n",
    "    'amzius': 36\n",
    "}\n",
    "print(me)"
   ]
  },
  {
   "cell_type": "code",
   "execution_count": 26,
   "metadata": {},
   "outputs": [
    {
     "name": "stdout",
     "output_type": "stream",
     "text": [
      "Kiril\n"
     ]
    }
   ],
   "source": [
    "print(me['vardas'])"
   ]
  },
  {
   "cell_type": "code",
   "execution_count": 28,
   "metadata": {},
   "outputs": [
    {
     "name": "stdout",
     "output_type": "stream",
     "text": [
      "{'vardas': 'Kiril', 'pavarde': 'Sanko', 'amzius': 36, 'miestas': 'Vilnius'}\n"
     ]
    }
   ],
   "source": [
    "me[ 'miestas' ] = 'Vilnius'\n",
    "print(me)"
   ]
  },
  {
   "cell_type": "code",
   "execution_count": 30,
   "metadata": {},
   "outputs": [
    {
     "name": "stdout",
     "output_type": "stream",
     "text": [
      "{'vardas': 'Kiril', 'pavarde': 'Sanko', 'amzius': 36, 'miestas': 'Vilnius', 'hobiai': ['mmorpg', 'crossfit']}\n"
     ]
    }
   ],
   "source": [
    "me[ 'hobiai' ] = ['mmorpg', 'crossfit']\n",
    "print(me)"
   ]
  },
  {
   "cell_type": "code",
   "execution_count": 33,
   "metadata": {},
   "outputs": [
    {
     "name": "stdout",
     "output_type": "stream",
     "text": [
      "[{'vardas': 'Jonas', 'amzius': 35}, {'vardas': 'Petras', 'amzius': 40}]\n",
      "Jonas\n",
      "for loop\n",
      "Jonas\n",
      "Petras\n"
     ]
    }
   ],
   "source": [
    "zmones = [\n",
    "    {'vardas' : 'Jonas', 'amzius': 35},\n",
    "    {'vardas': 'Petras', 'amzius': 40}\n",
    "]\n",
    "print(zmones)\n",
    "print(zmones[0]['vardas'])\n",
    "\n",
    "print('for loop')\n",
    "for zmogus in zmones:\n",
    "    print( zmogus['vardas'] )"
   ]
  },
  {
   "cell_type": "code",
   "execution_count": 34,
   "metadata": {},
   "outputs": [
    {
     "name": "stdout",
     "output_type": "stream",
     "text": [
      "{'vardas': 'Kiril', 'pavarde': 'Sanko', 'amzius': 36, 'miestas': 'Vilnius', 'hobiai': ['mmorpg', 'crossfit']}\n",
      "5\n"
     ]
    }
   ],
   "source": [
    "print(me)\n",
    "print(len(me))"
   ]
  },
  {
   "cell_type": "code",
   "execution_count": 38,
   "metadata": {},
   "outputs": [
    {
     "name": "stdout",
     "output_type": "stream",
     "text": [
      "{'vardas': 'Kiril', 'pavarde': 'Sanko', 'amzius': 36, 'miestas': 'Vilnius', 'hobiai': ['mmorpg', 'crossfit']}\n",
      "{'vardas': 'Kiril', 'pavarde': 'Sanko', 'miestas': 'Vilnius', 'hobiai': ['mmorpg', 'crossfit']}\n",
      "{'vardas': 'Kiril', 'pavarde': 'Sanko', 'hobiai': ['mmorpg', 'crossfit']}\n"
     ]
    }
   ],
   "source": [
    "me = {\n",
    "    'vardas': 'Kiril', \n",
    "    'pavarde': 'Sanko', \n",
    "    'amzius': 36, \n",
    "    'miestas': 'Vilnius', \n",
    "    'hobiai': ['mmorpg', 'crossfit']\n",
    "}\n",
    "\n",
    "print(me)\n",
    "me.pop('amzius')\n",
    "print(me)\n",
    "\n",
    "del me['miestas']\n",
    "print(me)"
   ]
  },
  {
   "attachments": {},
   "cell_type": "markdown",
   "metadata": {},
   "source": [
    "# Dictionary is mutable. Be careful. Refer to lesson 3"
   ]
  },
  {
   "cell_type": "code",
   "execution_count": 39,
   "metadata": {},
   "outputs": [
    {
     "name": "stdout",
     "output_type": "stream",
     "text": [
      "{'vardas': 'Kiril', 'pavarde': 'Sanko', 'hobiai': ['mmorpg', 'crossfit']}\n"
     ]
    }
   ],
   "source": [
    "print (me)"
   ]
  },
  {
   "cell_type": "code",
   "execution_count": 43,
   "metadata": {},
   "outputs": [
    {
     "name": "stdout",
     "output_type": "stream",
     "text": [
      "None\n",
      "nerastas\n",
      "36\n"
     ]
    }
   ],
   "source": [
    "# me.clear()\n",
    "me = {\n",
    "    'vardas': 'Kiril', \n",
    "    'pavarde': 'Sanko', \n",
    "    'amzius': 36, \n",
    "    'miestas': 'Vilnius', \n",
    "    'hobiai': ['mmorpg', 'crossfit']\n",
    "}\n",
    "print(me.get('neegzistuojantis_raktas'))\n",
    "print(me.get('neegzistuojantis_raktas', 'nerastas')) # Nera klaidos\n",
    "print(me.get('amzius', 'nerastas'))"
   ]
  },
  {
   "cell_type": "code",
   "execution_count": 45,
   "metadata": {},
   "outputs": [
    {
     "name": "stdout",
     "output_type": "stream",
     "text": [
      "{'vardas': 'Kiril', 'pavarde': 'Simbirskij', 'amzius': 36}\n",
      "{'vardas': 'Kiril', 'pavarde': 'Sanko', 'amzius': 36, 'miestas': 'Vilnius', 'hobiai': ['mmorpg', 'crossfit']}\n"
     ]
    }
   ],
   "source": [
    "me = {\n",
    "    'vardas': 'Kiril', \n",
    "    'pavarde': 'Simbirskij', \n",
    "    'amzius': 36\n",
    "}\n",
    "print(me)\n",
    "\n",
    "updated_info = {\n",
    "    'vardas': 'Kiril', \n",
    "    'pavarde': 'Sanko', \n",
    "    'amzius': 36, \n",
    "    'miestas': 'Vilnius', \n",
    "    'hobiai': ['mmorpg', 'crossfit']\n",
    "}\n",
    "\n",
    "me.update( updated_info )\n",
    "\n",
    "print(me)"
   ]
  },
  {
   "cell_type": "code",
   "execution_count": 47,
   "metadata": {},
   "outputs": [
    {
     "name": "stdout",
     "output_type": "stream",
     "text": [
      "Kiril\n",
      "Sanko\n",
      "36\n",
      "Vilnius\n",
      "['mmorpg', 'crossfit']\n"
     ]
    }
   ],
   "source": [
    "for value in me.values():\n",
    "    print(value)"
   ]
  },
  {
   "cell_type": "code",
   "execution_count": 49,
   "metadata": {},
   "outputs": [
    {
     "name": "stdout",
     "output_type": "stream",
     "text": [
      "vardas\n",
      "pavarde\n",
      "amzius\n",
      "miestas\n",
      "hobiai\n"
     ]
    }
   ],
   "source": [
    "for key in me.keys():\n",
    "    print(key)"
   ]
  },
  {
   "cell_type": "code",
   "execution_count": 51,
   "metadata": {},
   "outputs": [
    {
     "name": "stdout",
     "output_type": "stream",
     "text": [
      "key is vardas witha a value of: Kiril\n",
      "key is pavarde witha a value of: Sanko\n",
      "key is amzius witha a value of: 36\n",
      "key is miestas witha a value of: Vilnius\n",
      "key is hobiai witha a value of: ['mmorpg', 'crossfit']\n"
     ]
    }
   ],
   "source": [
    "for key, value in me.items():\n",
    "    print(f'key is {key} witha a value of: {value}')"
   ]
  },
  {
   "cell_type": "code",
   "execution_count": 52,
   "metadata": {},
   "outputs": [],
   "source": [
    "twitter_post = {\n",
    "  \"created_at\": \"Tue Feb 27 21:11:40 +0000 2018\",\n",
    "  \"id\": 968594506663669800,\n",
    "  \"id_str\": \"968594506663669760\",\n",
    "  \"text\": \"RT @honeydrop_506: 180222 ICN #백현 #BAEKHYUNnn나의 겨울과 너nn#iHeartAwards #BestFanArmy #EXOL @weareoneEXO https://t.co/hg7I3xAlBg\",\n",
    "  \"truncated\": False,\n",
    "  \"in_reply_to_status_id\": None,\n",
    "  \"in_reply_to_status_id_str\": None,\n",
    "  \"in_reply_to_user_id\": None,\n",
    "  \"in_reply_to_user_id_str\": None,\n",
    "  \"in_reply_to_screen_name\": None,\n",
    "  \"user\": {\n",
    "    \"id\": 4448809940,\n",
    "    \"id_str\": \"4448809940\",\n",
    "    \"name\": \"ayah\",\n",
    "    \"screen_name\": \"lovbyun\",\n",
    "    \"location\": \"bbh iu jjh pcy kjd dks\",\n",
    "    \"url\": \"https://curiouscat.me/baekhyun-l\",\n",
    "    \"description\": \"hi hello I love exo\",\n",
    "    \"translator_type\": \"none\",\n",
    "    \"protected\": False,\n",
    "    \"verified\": False,\n",
    "    \"followers_count\": 1142,\n",
    "    \"friends_count\": 125,\n",
    "    \"listed_count\": 20,\n",
    "    \"favourites_count\": 5712,\n",
    "    \"statuses_count\": 4011,\n",
    "    \"created_at\": \"Fri Dec 04 03:44:59 +0000 2015\",\n",
    "    \"utc_offset\": -28800,\n",
    "    \"time_zone\": \"Pacific Time (US & Canada)\",\n",
    "    \"geo_enabled\": False,\n",
    "    \"lang\": \"en\",\n",
    "    \"contributors_enabled\": False,\n",
    "    \"is_translator\": False,\n",
    "    \"profile_background_color\": \"000000\",\n",
    "    \"profile_background_image_url\": \"http://abs.twimg.com/images/themes/theme1/bg.png\",\n",
    "    \"profile_background_image_url_https\": \"https://abs.twimg.com/images/themes/theme1/bg.png\",\n",
    "    \"profile_background_tile\": False,\n",
    "    \"profile_link_color\": \"F58EA8\",\n",
    "    \"profile_sidebar_border_color\": \"000000\",\n",
    "    \"profile_sidebar_fill_color\": \"000000\",\n",
    "    \"profile_text_color\": \"000000\",\n",
    "    \"profile_use_background_image\": False,\n",
    "    \"profile_image_url\": \"http://pbs.twimg.com/profile_images/967130320259526656/0xZ-wxXJ_normal.jpg\",\n",
    "    \"profile_image_url_https\": \"https://pbs.twimg.com/profile_images/967130320259526656/0xZ-wxXJ_normal.jpg\",\n",
    "    \"profile_banner_url\": \"https://pbs.twimg.com/profile_banners/4448809940/1519340670\",\n",
    "    \"default_profile\": False,\n",
    "    \"default_profile_image\": False,\n",
    "    \"following\": None,\n",
    "    \"follow_request_sent\": None,\n",
    "    \"notifications\": None\n",
    "  },\n",
    "}"
   ]
  },
  {
   "cell_type": "code",
   "execution_count": 59,
   "metadata": {},
   "outputs": [
    {
     "name": "stdout",
     "output_type": "stream",
     "text": [
      "125\n",
      "125\n"
     ]
    }
   ],
   "source": [
    "new_dict = twitter_post[\"user\"]\n",
    "print(new_dict[\"friends_count\"])\n",
    "\n",
    "print(twitter_post[\"user\"][\"friends_count\"])"
   ]
  },
  {
   "cell_type": "code",
   "execution_count": 66,
   "metadata": {},
   "outputs": [
    {
     "name": "stdout",
     "output_type": "stream",
     "text": [
      "Ford\n",
      "3\n",
      "2022\n"
     ]
    }
   ],
   "source": [
    "car =\t{\n",
    "  \"brand\": \"Ford\",\n",
    "  \"model\": \"Mustang\",\n",
    "  \"year\": 1964\n",
    "}\n",
    "print(car['brand'])\n",
    "print(len(car))\n",
    "car ['year'] = 2022\n",
    "print(car['year'])"
   ]
  },
  {
   "cell_type": "code",
   "execution_count": 68,
   "metadata": {},
   "outputs": [
    {
     "name": "stdout",
     "output_type": "stream",
     "text": [
      "{'brand': 'Ford', 'model': 'Mustang', 'year': 2022, 'color': 'red', 'used': True}\n"
     ]
    }
   ],
   "source": [
    "new_items = {\n",
    "    'color': 'red',\n",
    "    'used': True\n",
    "}\n",
    "\n",
    "car.update(new_items)\n",
    "print(car)"
   ]
  },
  {
   "cell_type": "code",
   "execution_count": 69,
   "metadata": {},
   "outputs": [
    {
     "name": "stdout",
     "output_type": "stream",
     "text": [
      "{'model': 'Mustang', 'year': None, 'color': 'red', 'used': True}\n"
     ]
    }
   ],
   "source": [
    "del car['brand']\n",
    "car['year'] = None\n",
    "print(car)"
   ]
  },
  {
   "cell_type": "markdown",
   "metadata": {},
   "source": [
    "# Set deklaracija"
   ]
  },
  {
   "cell_type": "code",
   "execution_count": 70,
   "metadata": {},
   "outputs": [
    {
     "name": "stdout",
     "output_type": "stream",
     "text": [
      "{1, 2, 'a', 4, 100, 6, 8, 9, 'b'}\n"
     ]
    }
   ],
   "source": [
    "my_set = {100, 1, 2, 4, 6, 8, 9, 1, 1, 1, 1, 'a', 'b', 'b'}\n",
    "print(my_set)"
   ]
  },
  {
   "cell_type": "code",
   "execution_count": 73,
   "metadata": {},
   "outputs": [
    {
     "name": "stdout",
     "output_type": "stream",
     "text": [
      "True\n",
      "False\n"
     ]
    }
   ],
   "source": [
    "print (1 in my_set)\n",
    "print (89 in my_set)"
   ]
  },
  {
   "cell_type": "code",
   "execution_count": 74,
   "metadata": {},
   "outputs": [
    {
     "name": "stdout",
     "output_type": "stream",
     "text": [
      "9\n"
     ]
    }
   ],
   "source": [
    "print(len(my_set))"
   ]
  },
  {
   "cell_type": "code",
   "execution_count": 78,
   "metadata": {},
   "outputs": [
    {
     "name": "stdout",
     "output_type": "stream",
     "text": [
      "{1, 2, 'a', 4, 100, 6, 8, 9, 'b'}\n",
      "{1, 2, 'a', 4, 100, 6, 5, 8, 9, 111, 'b', 222}\n"
     ]
    }
   ],
   "source": [
    "my_set = {100, 1, 2, 4, 6, 8, 9, 1, 1, 1, 1, 'a', 'b', 'b'}\n",
    "print(my_set)\n",
    "my_set.add(5)\n",
    "my_set.add(1)\n",
    "my_set.update([111, 222])\n",
    "print(my_set)"
   ]
  },
  {
   "cell_type": "code",
   "execution_count": 80,
   "metadata": {},
   "outputs": [
    {
     "name": "stdout",
     "output_type": "stream",
     "text": [
      "{1, 2, 'a', 4, 100, 6, 8, 9, 'b'}\n",
      "1\n",
      "{2, 'a', 4, 100, 6, 8, 9, 'b'}\n"
     ]
    }
   ],
   "source": [
    "my_set = {100, 1, 2, 4, 6, 8, 9, 1, 1, 1, 1, 'a', 'b', 'b'}\n",
    "print(my_set)\n",
    "print(my_set.pop())\n",
    "print(my_set)"
   ]
  },
  {
   "cell_type": "code",
   "execution_count": 82,
   "metadata": {},
   "outputs": [],
   "source": [
    "my_set = {100, 1, 2, 4, 6, 8, 9, 1, 1, 1, 1, 'a', 'b', 'b'}\n",
    "my_set.remove(2)\n",
    "my_set.discard(2)"
   ]
  },
  {
   "cell_type": "code",
   "execution_count": 85,
   "metadata": {},
   "outputs": [
    {
     "name": "stdout",
     "output_type": "stream",
     "text": [
      "{1, 3, 4, 5, 6, 7, 8, 9}\n",
      "{1, 3}\n",
      "{5, 7}\n"
     ]
    }
   ],
   "source": [
    "my_set_1 = {1, 3, 5, 7}\n",
    "my_set_2 = {4, 5, 6, 7, 8, 9}\n",
    "print(my_set_1.union( my_set_2 ))\n",
    "print(my_set_1.difference( my_set_2 ))\n",
    "print( my_set_1.intersection( my_set_2))"
   ]
  },
  {
   "cell_type": "code",
   "execution_count": 87,
   "metadata": {},
   "outputs": [
    {
     "name": "stdout",
     "output_type": "stream",
     "text": [
      "True\n",
      "True\n"
     ]
    }
   ],
   "source": [
    "small_set = {2, 4}\n",
    "big_set = {1, 2, 3, 4, 5}\n",
    "\n",
    "print(small_set.issubset(big_set))\n",
    "print(big_set.issuperset(small_set))"
   ]
  },
  {
   "cell_type": "code",
   "execution_count": 95,
   "metadata": {},
   "outputs": [
    {
     "name": "stdout",
     "output_type": "stream",
     "text": [
      "{5, 'nauja_reiksme', 'cherry', 'banana', 'apple'}\n"
     ]
    }
   ],
   "source": [
    "fruits = {\"apple\", \"banana\", \"cherry\"}\n",
    "fruits.update([\"nauja_reiksme\", 5])\n",
    "print(fruits)\n"
   ]
  },
  {
   "cell_type": "code",
   "execution_count": 94,
   "metadata": {},
   "outputs": [
    {
     "name": "stdout",
     "output_type": "stream",
     "text": [
      "{'banana', 'watermelon', 'cherry'}\n"
     ]
    }
   ],
   "source": [
    "fruits = {\"apple\", \"banana\", \"cherry\"}\n",
    "fruits.remove('apple')\n",
    "fruits.add('watermelon')\n",
    "print(fruits)"
   ]
  },
  {
   "cell_type": "code",
   "execution_count": 98,
   "metadata": {},
   "outputs": [
    {
     "name": "stdout",
     "output_type": "stream",
     "text": [
      "8\n",
      "8\n"
     ]
    }
   ],
   "source": [
    "fruits = {\"apple\", \"banana\", \"cherry\"}\n",
    "fruits.add('watermelon')\n",
    "fruits.update(['pear', 'pineapple', 'coconut', 'tangerine', 'melon'])\n",
    "fruits.remove('coconut')\n",
    "print(len(fruits))\n",
    "fruits.add('watermelon')\n",
    "print(len(fruits))"
   ]
  },
  {
   "cell_type": "code",
   "execution_count": null,
   "metadata": {},
   "outputs": [],
   "source": []
  }
 ],
 "metadata": {
  "kernelspec": {
   "display_name": "base",
   "language": "python",
   "name": "python3"
  },
  "language_info": {
   "codemirror_mode": {
    "name": "ipython",
    "version": 3
   },
   "file_extension": ".py",
   "mimetype": "text/x-python",
   "name": "python",
   "nbconvert_exporter": "python",
   "pygments_lexer": "ipython3",
   "version": "3.9.13"
  },
  "orig_nbformat": 4,
  "vscode": {
   "interpreter": {
    "hash": "40d3a090f54c6569ab1632332b64b2c03c39dcf918b08424e98f38b5ae0af88f"
   }
  }
 },
 "nbformat": 4,
 "nbformat_minor": 2
}
